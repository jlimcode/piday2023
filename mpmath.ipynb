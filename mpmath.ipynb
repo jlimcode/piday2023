{
 "cells": [
  {
   "cell_type": "markdown",
   "metadata": {},
   "source": [
    "# Pi Day 2023 Activities"
   ]
  },
  {
   "cell_type": "code",
   "execution_count": 1,
   "metadata": {},
   "outputs": [],
   "source": [
    "from mpmath import mp"
   ]
  },
  {
   "cell_type": "code",
   "execution_count": 14,
   "metadata": {},
   "outputs": [],
   "source": [
    "mp.dps = 1000000\n",
    "pi = mp.pi"
   ]
  },
  {
   "cell_type": "code",
   "execution_count": 16,
   "metadata": {},
   "outputs": [],
   "source": [
    "def repeats(n):\n",
    "    lookup = {}\n",
    "    pi_s = str(pi)[2:]\n",
    "    for i in range(n, len(pi_s)):\n",
    "        start = i - n\n",
    "        seq = pi_s[start:i]\n",
    "        if seq in lookup:\n",
    "            return list(map(int, seq)), lookup[seq], start\n",
    "        lookup[seq] = start"
   ]
  },
  {
   "cell_type": "code",
   "execution_count": null,
   "metadata": {},
   "outputs": [],
   "source": [
    "\n",
    "def find_substring_in_pi(substring):\n",
    "    pi_digits = str(pi).replace(\".\", \"\")  # Convert pi to a string and remove decimal point\n",
    "    index = pi_digits.find(substring)  # Search for substring in pi digits\n",
    "    if index == -1:\n",
    "        print(\"Substring not found in pi\")\n",
    "    else:\n",
    "        print(f\"First occurrence of substring '{substring}' in pi is at index {index}\")\n",
    "\n",
    "# Example usage:\n",
    "find_substring_in_pi(\"159\")  # Should print \"First occurrence of substring '159' in pi is at index 1\"\n",
    "find_substring_in_pi(\"1234\")  # Should print \"Substring not found in pi\"\n"
   ]
  },
  {
   "cell_type": "code",
   "execution_count": 21,
   "metadata": {},
   "outputs": [
    {
     "data": {
      "text/plain": [
       "([7, 5, 6, 1, 3, 0, 1, 9, 0, 2, 6, 3], 447672, 857981)"
      ]
     },
     "execution_count": 21,
     "metadata": {},
     "output_type": "execute_result"
    }
   ],
   "source": [
    "repeats(12)"
   ]
  },
  {
   "cell_type": "code",
   "execution_count": 15,
   "metadata": {},
   "outputs": [],
   "source": [
    "with open(\"pi-digits.txt\", \"w\") as file:\n",
    "    file.write(str(pi))"
   ]
  },
  {
   "cell_type": "markdown",
   "metadata": {},
   "source": [
    "Many equations that evaluate to pi:"
   ]
  },
  {
   "cell_type": "code",
   "execution_count": 1,
   "metadata": {},
   "outputs": [
    {
     "data": {
      "text/plain": [
       "3.1415926535897932384626433832795028841971693993751"
      ]
     },
     "execution_count": 1,
     "metadata": {},
     "output_type": "execute_result"
    }
   ],
   "source": [
    "from mpmath import *\n",
    "mp.dps = 50; mp.pretty = True\n",
    "\n",
    "+pi\n",
    "180*degree\n",
    "4*atan(1)\n",
    "16*acot(5)-4*acot(239)\n",
    "48*acot(49)+128*acot(57)-20*acot(239)+48*acot(110443)\n",
    "chop(2*j*log((1-j)/(1+j)))\n",
    "chop(-2j*asinh(1j))\n",
    "chop(ci(-inf)/1j)\n",
    "gamma(0.5)**2\n",
    "beta(0.5,0.5)\n",
    "(2/diff(erf, 0))**2\n",
    "findroot(sin, 3)\n",
    "findroot(cos, 1)*2\n",
    "chop(-2j*lambertw(-pi/2))\n",
    "besseljzero(0.5,1)\n",
    "3*sqrt(3)/2/hyp2f1((-1,3),(1,3),1,1)\n",
    "8/(hyp2f1(0.5,0.5,1,0.5)*gamma(0.75)/gamma(1.25))**2\n",
    "4*(hyp1f2(1,1.5,1,1) / struvel(-0.5, 2))**2\n",
    "1/meijerg([[],[]], [[0],[0.5]], 0)**2\n",
    "(meijerg([[],[2]], [[1,1.5],[]], 1, 0.5) / erfc(1))**2\n",
    "(1-e) / meijerg([[1],[0.5]], [[1],[0.5,0]], 1)\n",
    "sqrt(psi(1,0.25)-8*catalan)\n",
    "elliprc(1,2)*4\n",
    "elliprg(0,1,1)*4\n",
    "2*agm(1,0.5)*ellipk(0.75)\n",
    "(gamma(0.75)*jtheta(3,0,exp(-pi)))**4\n",
    "cbrt(gamma(0.25)**4*agm(1,sqrt(2))**2/8)\n",
    "sqrt(6*zeta(2))\n",
    "sqrt(6*(zeta(2,3)+5./4))\n",
    "sqrt(zeta(2,(3,4))+8*catalan)\n",
    "exp(-2*zeta(0,1,1))/2\n",
    "sqrt(12*altzeta(2))\n",
    "4*dirichlet(1,[0,1,0,-1])\n",
    "2*catalan/dirichlet(-1,[0,1,0,-1],1)\n",
    "exp(-dirichlet(0,[0,1,0,-1],1))*gamma(0.25)**2/(2*sqrt(2))\n",
    "sqrt(7*zeta(3)/(4*diff(lerchphi, (-1,-2,1), (0,1,0))))\n",
    "sqrt(-12*polylog(2,-1))\n",
    "sqrt(6*log(2)**2+12*polylog(2,0.5))\n",
    "chop(root(-81j*(polylog(3,root(1,3,1))+4*zeta(3)/9)/2,3))\n",
    "2*clsin(1,1)+1\n",
    "(3+sqrt(3)*sqrt(1+8*clcos(2,1)))/2\n",
    "root(2,6)*sqrt(e)/(glaisher**6*barnesg(0.5)**4)\n",
    "nsum(lambda k: 4*(-1)**(k+1)/(2*k-1), [1,inf])\n",
    "nsum(lambda k: (3**k-1)/4**k*zeta(k+1), [1,inf])\n",
    "nsum(lambda k: 8/(2*k-1)**2, [1,inf])**0.5\n",
    "nsum(lambda k: 2*fac(k)/fac2(2*k+1), [0,inf])\n",
    "nsum(lambda k: fac(k)**2/fac(2*k+1), [0,inf])*3*sqrt(3)/2\n",
    "nsum(lambda k: fac(k)**2/(phi**(2*k+1)*fac(2*k+1)), [0,inf])*(5*sqrt(phi+2))/2\n",
    "nsum(lambda k: (4/(8*k+1)-2/(8*k+4)-1/(8*k+5)-1/(8*k+6))/16**k, [0,inf])\n",
    "2/nsum(lambda k: (-1)**k*(4*k+1)*(fac2(2*k-1)/fac2(2*k))**3, [0,inf])\n",
    "nsum(lambda k: 72/(k*expm1(k*pi))-96/(k*expm1(2*pi*k))+24/(k*expm1(4*pi*k)), [1,inf])\n",
    "1/nsum(lambda k: binomial(2*k,k)**3*(42*k+5)/2**(12*k+4), [0,inf])\n",
    "4/nsum(lambda k: (-1)**k*(1123+21460*k)*fac2(2*k-1)*fac2(4*k-1)/(882**(2*k+1)*32**k*fac(k)**3), [0,inf])\n",
    "9801/sqrt(8)/nsum(lambda k: fac(4*k)*(1103+26390*k)/(fac(k)**4*396**(4*k)), [0,inf])\n",
    "426880*sqrt(10005)/nsum(lambda k: (-1)**k*fac(6*k)*(13591409+545140134*k)/(fac(k)**3*fac(3*k)*(640320**3)**k), [0,inf])\n",
    "4/nsum(lambda k: (6*k+1)*rf(0.5,k)**3/(4**k*fac(k)**3), [0,inf])\n",
    "(ln(8)+sqrt(48*nsum(lambda m,n: (-1)**(m+n)/(m**2+n**2), [1,inf],[1,inf]) + 9*log(2)**2))/2\n",
    "-nsum(lambda x,y: (-1)**(x+y)/(x**2+y**2), [-inf,inf], [-inf,inf], ignore=True)/ln2\n",
    "2*nsum(lambda k: sin(k)/k, [1,inf])+1\n",
    "quad(lambda x: 2/(x**2+1), [0,inf])\n",
    "quad(lambda x: exp(-x**2), [-inf,inf])**2\n",
    "2*quad(lambda x: sqrt(1-x**2), [-1,1])\n",
    "chop(quad(lambda z: 1/(2j*z), [1,j,-1,-j,1]))\n",
    "3*(4*log(2+sqrt(3))-quad(lambda x,y: 1/sqrt(1+x**2+y**2), [-1,1],[-1,1]))/2\n",
    "sqrt(8*quad(lambda x,y: 1/(1-(x*y)**2), [0,1],[0,1]))\n",
    "sqrt(6*quad(lambda x,y: 1/(1-x*y), [0,1],[0,1]))\n",
    "sqrt(6*quad(lambda x: x/expm1(x), [0,inf]))\n",
    "quad(lambda x: (16*x-16)/(x**4-2*x**3+4*x-4), [0,1])\n",
    "quad(lambda x: sqrt(x-x**2), [0,0.25])*24+3*sqrt(3)/4\n",
    "mpf(22)/7 - quad(lambda x: x**4*(1-x)**4/(1+x**2), [0,1])\n",
    "mpf(355)/113 - quad(lambda x: x**8*(1-x)**8*(25+816*x**2)/(1+x**2), [0,1])/3164\n",
    "2*quadosc(lambda x: sin(x)/x, [0,inf], omega=1)\n",
    "40*quadosc(lambda x: sin(x)**6/x**6, [0,inf], omega=1)/11\n",
    "e*quadosc(lambda x: cos(x)/(1+x**2), [-inf,inf], omega=1)\n",
    "8*quadosc(lambda x: cos(x**2), [0,inf], zeros=lambda n: sqrt(n))**2\n",
    "2*quadosc(lambda x: sin(exp(x)), [1,inf], zeros=ln)+2*si(e)\n",
    "exp(2*quad(loggamma, [0,1]))/2\n",
    "2*nprod(lambda k: sec(pi/2**k), [2,inf])\n",
    "s=lambda k: sqrt(0.5+s(k-1)/2) if k else 0; 2/nprod(s, [1,inf])\n",
    "s=lambda k: sqrt(2+s(k-1)) if k else 0; limit(lambda k: sqrt(2-s(k))*2**(k+1), inf)\n",
    "2*nprod(lambda k: (2*k)**2/((2*k-1)*(2*k+1)), [1,inf])\n",
    "2*nprod(lambda k: (4*k**2)/(4*k**2-1), [1, inf])\n",
    "sqrt(6*ln(nprod(lambda k: exp(1/k**2), [1,inf])))\n",
    "nprod(lambda k: (k**2-1)/(k**2+1), [2,inf])/csch(pi)\n",
    "nprod(lambda k: (k**2-1)/(k**2+1), [2,inf])*sinh(pi)\n",
    "nprod(lambda k: (k**4-1)/(k**4+1), [2, inf])*(cosh(sqrt(2)*pi)-cos(sqrt(2)*pi))/sinh(pi)\n",
    "sinh(pi)/nprod(lambda k: (1-1/k**4), [2, inf])/4\n",
    "sinh(pi)/nprod(lambda k: (1+1/k**2), [2, inf])/2\n",
    "(exp(1+euler/2)/nprod(lambda n: (1+1/n)**n * exp(1/(2*n)-1), [1, inf]))**2/2\n",
    "3*sqrt(2)*cosh(pi*sqrt(3)/2)**2*csch(pi*sqrt(2))/nprod(lambda k: (1+1/k+1/k**2)**2/(1+2/k+3/k**2), [1, inf])\n",
    "2/e*nprod(lambda k: (1+2/k)**((-1)**(k+1)*k), [1,inf])\n",
    "limit(lambda k: 16**k/(k*binomial(2*k,k)**2), inf)\n",
    "limit(lambda x: 4*x*hyp1f2(0.5,1.5,1.5,-x**2), inf)\n",
    "1/log(limit(lambda n: nprod(lambda k: pi/(2*atan(k)), [n,2*n]), inf),4)\n",
    "limit(lambda k: 2**(4*k+1)*fac(k)**4/(2*k+1)/fac(2*k)**2, inf)\n",
    "limit(lambda k: fac(k) / (sqrt(k)*(k/e)**k), inf)**2/2\n",
    "limit(lambda k: (-(-1)**k*bernoulli(2*k)*2**(2*k-1)/fac(2*k))**(-1/(2*k)), inf)\n",
    "limit(lambda k: besseljzero(1,k)/k, inf)\n",
    "1/limit(lambda x: airyai(x)*2*x**0.25*exp(2*x**1.5/3), inf, exp=True)**2\n",
    "1/limit(lambda x: airybi(x)*x**0.25*exp(-2*x**1.5/3), inf, exp=True)**2"
   ]
  }
 ],
 "metadata": {
  "kernelspec": {
   "display_name": "base",
   "language": "python",
   "name": "python3"
  },
  "language_info": {
   "codemirror_mode": {
    "name": "ipython",
    "version": 3
   },
   "file_extension": ".py",
   "mimetype": "text/x-python",
   "name": "python",
   "nbconvert_exporter": "python",
   "pygments_lexer": "ipython3",
   "version": "3.9.16"
  },
  "orig_nbformat": 4
 },
 "nbformat": 4,
 "nbformat_minor": 2
}
